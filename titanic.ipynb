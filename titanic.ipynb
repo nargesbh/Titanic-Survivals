{
  "cells": [
    {
      "cell_type": "markdown",
      "metadata": {
        "id": "trPrtrlcecME"
      },
      "source": [
        "Importing needed libraries:"
      ]
    },
    {
      "cell_type": "code",
      "execution_count": 33,
      "metadata": {
        "id": "dZ8tKdR0TETt"
      },
      "outputs": [],
      "source": [
        "import pandas as pd\n",
        "import matplotlib.pyplot as plt\n",
        "import random\n",
        "import numpy as np\n",
        "import math\n",
        "import random\n",
        "from sklearn.utils import shuffle\n",
        "import seaborn as sns\n",
        "import copy"
      ]
    },
    {
      "cell_type": "markdown",
      "metadata": {
        "id": "HuyG-nC6et4t"
      },
      "source": [
        "#### Importing data"
      ]
    },
    {
      "cell_type": "code",
      "execution_count": null,
      "metadata": {
        "colab": {
          "base_uri": "https://localhost:8080/"
        },
        "id": "FUgvi1xAUFKL",
        "outputId": "4c3d5b0e-5350-4fad-b50f-4a5f21a420a5"
      },
      "outputs": [],
      "source": [
        "from google.colab import drive\n",
        "drive.mount('/content/drive')"
      ]
    },
    {
      "cell_type": "code",
      "execution_count": 35,
      "metadata": {
        "colab": {
          "base_uri": "https://localhost:8080/"
        },
        "id": "pdZGN_DaUFhn",
        "outputId": "29468ffe-28a0-43a5-a9b9-18de21fdb265"
      },
      "outputs": [
        {
          "name": "stdout",
          "output_type": "stream",
          "text": [
            "<class 'pandas.core.frame.DataFrame'>\n",
            "RangeIndex: 891 entries, 0 to 890\n",
            "Data columns (total 12 columns):\n",
            " #   Column       Non-Null Count  Dtype  \n",
            "---  ------       --------------  -----  \n",
            " 0   PassengerId  891 non-null    int64  \n",
            " 1   Survived     891 non-null    int64  \n",
            " 2   Pclass       891 non-null    int64  \n",
            " 3   Name         891 non-null    object \n",
            " 4   Sex          891 non-null    object \n",
            " 5   Age          714 non-null    float64\n",
            " 6   SibSp        891 non-null    int64  \n",
            " 7   Parch        891 non-null    int64  \n",
            " 8   Ticket       891 non-null    object \n",
            " 9   Fare         891 non-null    float64\n",
            " 10  Cabin        204 non-null    object \n",
            " 11  Embarked     889 non-null    object \n",
            "dtypes: float64(2), int64(5), object(5)\n",
            "memory usage: 83.7+ KB\n"
          ]
        }
      ],
      "source": [
        "train_data = pd.read_csv('train.csv')\n",
        "\n",
        "test_data = pd.read_csv('test.csv')\n",
        "train_data.info()"
      ]
    },
    {
      "cell_type": "markdown",
      "metadata": {
        "id": "LbDJ21Exe7yN"
      },
      "source": [
        "#### Preprocessing:"
      ]
    },
    {
      "cell_type": "markdown",
      "metadata": {
        "id": "4vukRKrkZaoN"
      },
      "source": [
        "As it is obvious from the dataset, 'name', 'sex', 'ticket', 'cabin' and 'Embarked' columns are not numerical.\n",
        "\n",
        "Features that can be omitted from the dataset:\n",
        "*   PassengerId: This is just an arbitrary identifier for each passenger and does not provide any useful information for the prediction task.\n",
        "*   Name: The name of the passenger is not directly related to their survival, and it would be difficult to extract any useful information from it.\n",
        "* Ticket: The ticket number is also unlikely to be useful for the prediction task, and it may contain a lot of noise.\n",
        "* Cabin: The cabin number is missing for many passengers, and even for those who have it, it may not be informative for the prediction task. Also, the Cabin feature has high cardinality and may result in overfitting if used as-is.\n",
        "* SibSp and Parch: These features represent the number of siblings/spouses and parents/children aboard the Titanic. They may be informative for the prediction task, but it may be more useful to combine them into a single feature that represents the total number of family members on board.\n"
      ]
    },
    {
      "cell_type": "code",
      "execution_count": 36,
      "metadata": {
        "id": "NxHQ-LvMcTxZ"
      },
      "outputs": [],
      "source": [
        "# Defining a function to perform feature engineering and data cleaning.\n",
        "def feature_omit(df):\n",
        "  df['familyNo'] = df['SibSp'] + df['Parch']\n",
        "  df = df.drop('SibSp', axis=1)\n",
        "  df = df.drop('Parch', axis=1)\n",
        "\n",
        "  df = df.drop('PassengerId', axis=1)\n",
        "  df = df.drop('Name', axis=1)\n",
        "  df = df.drop('Ticket', axis=1)\n",
        "  df = df.drop('Cabin', axis=1)\n",
        "\n",
        "  return df"
      ]
    },
    {
      "cell_type": "code",
      "execution_count": 37,
      "metadata": {
        "id": "4eSepD1WoDw6"
      },
      "outputs": [],
      "source": [
        "train_data = feature_omit(train_data)"
      ]
    },
    {
      "cell_type": "code",
      "execution_count": 38,
      "metadata": {
        "colab": {
          "base_uri": "https://localhost:8080/",
          "height": 204
        },
        "id": "qX5Za2lfoRUp",
        "outputId": "934f24d4-e4cc-4003-fe85-77d573c63cdd"
      },
      "outputs": [
        {
          "data": {
            "text/html": [
              "<div>\n",
              "<style scoped>\n",
              "    .dataframe tbody tr th:only-of-type {\n",
              "        vertical-align: middle;\n",
              "    }\n",
              "\n",
              "    .dataframe tbody tr th {\n",
              "        vertical-align: top;\n",
              "    }\n",
              "\n",
              "    .dataframe thead th {\n",
              "        text-align: right;\n",
              "    }\n",
              "</style>\n",
              "<table border=\"1\" class=\"dataframe\">\n",
              "  <thead>\n",
              "    <tr style=\"text-align: right;\">\n",
              "      <th></th>\n",
              "      <th>Survived</th>\n",
              "      <th>Pclass</th>\n",
              "      <th>Sex</th>\n",
              "      <th>Age</th>\n",
              "      <th>Fare</th>\n",
              "      <th>Embarked</th>\n",
              "      <th>familyNo</th>\n",
              "    </tr>\n",
              "  </thead>\n",
              "  <tbody>\n",
              "    <tr>\n",
              "      <th>0</th>\n",
              "      <td>0</td>\n",
              "      <td>3</td>\n",
              "      <td>male</td>\n",
              "      <td>22.0</td>\n",
              "      <td>7.2500</td>\n",
              "      <td>S</td>\n",
              "      <td>1</td>\n",
              "    </tr>\n",
              "    <tr>\n",
              "      <th>1</th>\n",
              "      <td>1</td>\n",
              "      <td>1</td>\n",
              "      <td>female</td>\n",
              "      <td>38.0</td>\n",
              "      <td>71.2833</td>\n",
              "      <td>C</td>\n",
              "      <td>1</td>\n",
              "    </tr>\n",
              "    <tr>\n",
              "      <th>2</th>\n",
              "      <td>1</td>\n",
              "      <td>3</td>\n",
              "      <td>female</td>\n",
              "      <td>26.0</td>\n",
              "      <td>7.9250</td>\n",
              "      <td>S</td>\n",
              "      <td>0</td>\n",
              "    </tr>\n",
              "    <tr>\n",
              "      <th>3</th>\n",
              "      <td>1</td>\n",
              "      <td>1</td>\n",
              "      <td>female</td>\n",
              "      <td>35.0</td>\n",
              "      <td>53.1000</td>\n",
              "      <td>S</td>\n",
              "      <td>1</td>\n",
              "    </tr>\n",
              "    <tr>\n",
              "      <th>4</th>\n",
              "      <td>0</td>\n",
              "      <td>3</td>\n",
              "      <td>male</td>\n",
              "      <td>35.0</td>\n",
              "      <td>8.0500</td>\n",
              "      <td>S</td>\n",
              "      <td>0</td>\n",
              "    </tr>\n",
              "  </tbody>\n",
              "</table>\n",
              "</div>"
            ],
            "text/plain": [
              "   Survived  Pclass     Sex   Age     Fare Embarked  familyNo\n",
              "0         0       3    male  22.0   7.2500        S         1\n",
              "1         1       1  female  38.0  71.2833        C         1\n",
              "2         1       3  female  26.0   7.9250        S         0\n",
              "3         1       1  female  35.0  53.1000        S         1\n",
              "4         0       3    male  35.0   8.0500        S         0"
            ]
          },
          "execution_count": 38,
          "metadata": {},
          "output_type": "execute_result"
        }
      ],
      "source": [
        "train_data.head()"
      ]
    },
    {
      "cell_type": "code",
      "execution_count": 39,
      "metadata": {
        "id": "yZvNoA99oGtx"
      },
      "outputs": [],
      "source": [
        "test_data = feature_omit(test_data)"
      ]
    },
    {
      "cell_type": "code",
      "execution_count": 40,
      "metadata": {
        "colab": {
          "base_uri": "https://localhost:8080/",
          "height": 204
        },
        "id": "OfQIsjyRoTAK",
        "outputId": "2e8c6df0-33d0-47f2-ab40-f39ccae6e576"
      },
      "outputs": [
        {
          "data": {
            "text/html": [
              "<div>\n",
              "<style scoped>\n",
              "    .dataframe tbody tr th:only-of-type {\n",
              "        vertical-align: middle;\n",
              "    }\n",
              "\n",
              "    .dataframe tbody tr th {\n",
              "        vertical-align: top;\n",
              "    }\n",
              "\n",
              "    .dataframe thead th {\n",
              "        text-align: right;\n",
              "    }\n",
              "</style>\n",
              "<table border=\"1\" class=\"dataframe\">\n",
              "  <thead>\n",
              "    <tr style=\"text-align: right;\">\n",
              "      <th></th>\n",
              "      <th>Pclass</th>\n",
              "      <th>Sex</th>\n",
              "      <th>Age</th>\n",
              "      <th>Fare</th>\n",
              "      <th>Embarked</th>\n",
              "      <th>familyNo</th>\n",
              "    </tr>\n",
              "  </thead>\n",
              "  <tbody>\n",
              "    <tr>\n",
              "      <th>0</th>\n",
              "      <td>3</td>\n",
              "      <td>male</td>\n",
              "      <td>34.5</td>\n",
              "      <td>7.8292</td>\n",
              "      <td>Q</td>\n",
              "      <td>0</td>\n",
              "    </tr>\n",
              "    <tr>\n",
              "      <th>1</th>\n",
              "      <td>3</td>\n",
              "      <td>female</td>\n",
              "      <td>47.0</td>\n",
              "      <td>7.0000</td>\n",
              "      <td>S</td>\n",
              "      <td>1</td>\n",
              "    </tr>\n",
              "    <tr>\n",
              "      <th>2</th>\n",
              "      <td>2</td>\n",
              "      <td>male</td>\n",
              "      <td>62.0</td>\n",
              "      <td>9.6875</td>\n",
              "      <td>Q</td>\n",
              "      <td>0</td>\n",
              "    </tr>\n",
              "    <tr>\n",
              "      <th>3</th>\n",
              "      <td>3</td>\n",
              "      <td>male</td>\n",
              "      <td>27.0</td>\n",
              "      <td>8.6625</td>\n",
              "      <td>S</td>\n",
              "      <td>0</td>\n",
              "    </tr>\n",
              "    <tr>\n",
              "      <th>4</th>\n",
              "      <td>3</td>\n",
              "      <td>female</td>\n",
              "      <td>22.0</td>\n",
              "      <td>12.2875</td>\n",
              "      <td>S</td>\n",
              "      <td>2</td>\n",
              "    </tr>\n",
              "  </tbody>\n",
              "</table>\n",
              "</div>"
            ],
            "text/plain": [
              "   Pclass     Sex   Age     Fare Embarked  familyNo\n",
              "0       3    male  34.5   7.8292        Q         0\n",
              "1       3  female  47.0   7.0000        S         1\n",
              "2       2    male  62.0   9.6875        Q         0\n",
              "3       3    male  27.0   8.6625        S         0\n",
              "4       3  female  22.0  12.2875        S         2"
            ]
          },
          "execution_count": 40,
          "metadata": {},
          "output_type": "execute_result"
        }
      ],
      "source": [
        "test_data.head()"
      ]
    },
    {
      "cell_type": "markdown",
      "metadata": {
        "id": "h2REgx2XfL6j"
      },
      "source": [
        "Turning categorical data into numerical:\\\n",
        "The function cat_to_num takes a pandas DataFrame df and performs some data preprocessing on it. Specifically, it converts the 'Sex' column from categorical values ('male' and 'female') to numerical values (0 and 1) using the map() method. It also creates dummy variables for the 'Embarked' column using one-hot encoding via the get_dummies() function, concatenates these new columns with the original DataFrame using concat(), and drops the original 'Embarked' column using the drop() method. The modified DataFrame is then returned.  \n"
      ]
    },
    {
      "cell_type": "code",
      "execution_count": 41,
      "metadata": {
        "id": "Uahr8aZsgekT"
      },
      "outputs": [],
      "source": [
        "def cat_to_num(df):\n",
        "  df['Sex'] = df['Sex'].map({'male': 0, 'female': 1})\n",
        "  embarked_dummies = pd.get_dummies(df['Embarked'], prefix='Embarked')\n",
        "  df = pd.concat([df, embarked_dummies], axis=1)\n",
        "  df = df.drop('Embarked', axis=1)\n",
        "  return df"
      ]
    },
    {
      "cell_type": "code",
      "execution_count": 42,
      "metadata": {
        "colab": {
          "base_uri": "https://localhost:8080/",
          "height": 204
        },
        "id": "a7qypYIzgq4l",
        "outputId": "382f6b68-824e-48ac-9c35-10618676a6fe"
      },
      "outputs": [
        {
          "data": {
            "text/html": [
              "<div>\n",
              "<style scoped>\n",
              "    .dataframe tbody tr th:only-of-type {\n",
              "        vertical-align: middle;\n",
              "    }\n",
              "\n",
              "    .dataframe tbody tr th {\n",
              "        vertical-align: top;\n",
              "    }\n",
              "\n",
              "    .dataframe thead th {\n",
              "        text-align: right;\n",
              "    }\n",
              "</style>\n",
              "<table border=\"1\" class=\"dataframe\">\n",
              "  <thead>\n",
              "    <tr style=\"text-align: right;\">\n",
              "      <th></th>\n",
              "      <th>Survived</th>\n",
              "      <th>Pclass</th>\n",
              "      <th>Sex</th>\n",
              "      <th>Age</th>\n",
              "      <th>Fare</th>\n",
              "      <th>familyNo</th>\n",
              "      <th>Embarked_C</th>\n",
              "      <th>Embarked_Q</th>\n",
              "      <th>Embarked_S</th>\n",
              "    </tr>\n",
              "  </thead>\n",
              "  <tbody>\n",
              "    <tr>\n",
              "      <th>0</th>\n",
              "      <td>0</td>\n",
              "      <td>3</td>\n",
              "      <td>0</td>\n",
              "      <td>22.0</td>\n",
              "      <td>7.2500</td>\n",
              "      <td>1</td>\n",
              "      <td>0</td>\n",
              "      <td>0</td>\n",
              "      <td>1</td>\n",
              "    </tr>\n",
              "    <tr>\n",
              "      <th>1</th>\n",
              "      <td>1</td>\n",
              "      <td>1</td>\n",
              "      <td>1</td>\n",
              "      <td>38.0</td>\n",
              "      <td>71.2833</td>\n",
              "      <td>1</td>\n",
              "      <td>1</td>\n",
              "      <td>0</td>\n",
              "      <td>0</td>\n",
              "    </tr>\n",
              "    <tr>\n",
              "      <th>2</th>\n",
              "      <td>1</td>\n",
              "      <td>3</td>\n",
              "      <td>1</td>\n",
              "      <td>26.0</td>\n",
              "      <td>7.9250</td>\n",
              "      <td>0</td>\n",
              "      <td>0</td>\n",
              "      <td>0</td>\n",
              "      <td>1</td>\n",
              "    </tr>\n",
              "    <tr>\n",
              "      <th>3</th>\n",
              "      <td>1</td>\n",
              "      <td>1</td>\n",
              "      <td>1</td>\n",
              "      <td>35.0</td>\n",
              "      <td>53.1000</td>\n",
              "      <td>1</td>\n",
              "      <td>0</td>\n",
              "      <td>0</td>\n",
              "      <td>1</td>\n",
              "    </tr>\n",
              "    <tr>\n",
              "      <th>4</th>\n",
              "      <td>0</td>\n",
              "      <td>3</td>\n",
              "      <td>0</td>\n",
              "      <td>35.0</td>\n",
              "      <td>8.0500</td>\n",
              "      <td>0</td>\n",
              "      <td>0</td>\n",
              "      <td>0</td>\n",
              "      <td>1</td>\n",
              "    </tr>\n",
              "  </tbody>\n",
              "</table>\n",
              "</div>"
            ],
            "text/plain": [
              "   Survived  Pclass  Sex   Age     Fare  familyNo  Embarked_C  Embarked_Q  \\\n",
              "0         0       3    0  22.0   7.2500         1           0           0   \n",
              "1         1       1    1  38.0  71.2833         1           1           0   \n",
              "2         1       3    1  26.0   7.9250         0           0           0   \n",
              "3         1       1    1  35.0  53.1000         1           0           0   \n",
              "4         0       3    0  35.0   8.0500         0           0           0   \n",
              "\n",
              "   Embarked_S  \n",
              "0           1  \n",
              "1           0  \n",
              "2           1  \n",
              "3           1  \n",
              "4           1  "
            ]
          },
          "execution_count": 42,
          "metadata": {},
          "output_type": "execute_result"
        }
      ],
      "source": [
        "train_data = cat_to_num(train_data)\n",
        "train_data.head()"
      ]
    },
    {
      "cell_type": "code",
      "execution_count": 43,
      "metadata": {
        "colab": {
          "base_uri": "https://localhost:8080/",
          "height": 204
        },
        "id": "YTVWZtYlp7x3",
        "outputId": "5b99f4a2-c3f3-4bba-d12e-ca0b6c30a42d"
      },
      "outputs": [
        {
          "data": {
            "text/html": [
              "<div>\n",
              "<style scoped>\n",
              "    .dataframe tbody tr th:only-of-type {\n",
              "        vertical-align: middle;\n",
              "    }\n",
              "\n",
              "    .dataframe tbody tr th {\n",
              "        vertical-align: top;\n",
              "    }\n",
              "\n",
              "    .dataframe thead th {\n",
              "        text-align: right;\n",
              "    }\n",
              "</style>\n",
              "<table border=\"1\" class=\"dataframe\">\n",
              "  <thead>\n",
              "    <tr style=\"text-align: right;\">\n",
              "      <th></th>\n",
              "      <th>Pclass</th>\n",
              "      <th>Sex</th>\n",
              "      <th>Age</th>\n",
              "      <th>Fare</th>\n",
              "      <th>familyNo</th>\n",
              "      <th>Embarked_C</th>\n",
              "      <th>Embarked_Q</th>\n",
              "      <th>Embarked_S</th>\n",
              "    </tr>\n",
              "  </thead>\n",
              "  <tbody>\n",
              "    <tr>\n",
              "      <th>0</th>\n",
              "      <td>3</td>\n",
              "      <td>0</td>\n",
              "      <td>34.5</td>\n",
              "      <td>7.8292</td>\n",
              "      <td>0</td>\n",
              "      <td>0</td>\n",
              "      <td>1</td>\n",
              "      <td>0</td>\n",
              "    </tr>\n",
              "    <tr>\n",
              "      <th>1</th>\n",
              "      <td>3</td>\n",
              "      <td>1</td>\n",
              "      <td>47.0</td>\n",
              "      <td>7.0000</td>\n",
              "      <td>1</td>\n",
              "      <td>0</td>\n",
              "      <td>0</td>\n",
              "      <td>1</td>\n",
              "    </tr>\n",
              "    <tr>\n",
              "      <th>2</th>\n",
              "      <td>2</td>\n",
              "      <td>0</td>\n",
              "      <td>62.0</td>\n",
              "      <td>9.6875</td>\n",
              "      <td>0</td>\n",
              "      <td>0</td>\n",
              "      <td>1</td>\n",
              "      <td>0</td>\n",
              "    </tr>\n",
              "    <tr>\n",
              "      <th>3</th>\n",
              "      <td>3</td>\n",
              "      <td>0</td>\n",
              "      <td>27.0</td>\n",
              "      <td>8.6625</td>\n",
              "      <td>0</td>\n",
              "      <td>0</td>\n",
              "      <td>0</td>\n",
              "      <td>1</td>\n",
              "    </tr>\n",
              "    <tr>\n",
              "      <th>4</th>\n",
              "      <td>3</td>\n",
              "      <td>1</td>\n",
              "      <td>22.0</td>\n",
              "      <td>12.2875</td>\n",
              "      <td>2</td>\n",
              "      <td>0</td>\n",
              "      <td>0</td>\n",
              "      <td>1</td>\n",
              "    </tr>\n",
              "  </tbody>\n",
              "</table>\n",
              "</div>"
            ],
            "text/plain": [
              "   Pclass  Sex   Age     Fare  familyNo  Embarked_C  Embarked_Q  Embarked_S\n",
              "0       3    0  34.5   7.8292         0           0           1           0\n",
              "1       3    1  47.0   7.0000         1           0           0           1\n",
              "2       2    0  62.0   9.6875         0           0           1           0\n",
              "3       3    0  27.0   8.6625         0           0           0           1\n",
              "4       3    1  22.0  12.2875         2           0           0           1"
            ]
          },
          "execution_count": 43,
          "metadata": {},
          "output_type": "execute_result"
        }
      ],
      "source": [
        "test_data = cat_to_num(test_data)\n",
        "test_data.head()"
      ]
    },
    {
      "cell_type": "code",
      "execution_count": 44,
      "metadata": {
        "colab": {
          "base_uri": "https://localhost:8080/"
        },
        "id": "GSy6aLhziZIH",
        "outputId": "9a4db364-bd6d-4301-8afd-f7daa20825b4"
      },
      "outputs": [
        {
          "name": "stdout",
          "output_type": "stream",
          "text": [
            "<class 'pandas.core.frame.DataFrame'>\n",
            "RangeIndex: 891 entries, 0 to 890\n",
            "Data columns (total 9 columns):\n",
            " #   Column      Non-Null Count  Dtype  \n",
            "---  ------      --------------  -----  \n",
            " 0   Survived    891 non-null    int64  \n",
            " 1   Pclass      891 non-null    int64  \n",
            " 2   Sex         891 non-null    int64  \n",
            " 3   Age         714 non-null    float64\n",
            " 4   Fare        891 non-null    float64\n",
            " 5   familyNo    891 non-null    int64  \n",
            " 6   Embarked_C  891 non-null    uint8  \n",
            " 7   Embarked_Q  891 non-null    uint8  \n",
            " 8   Embarked_S  891 non-null    uint8  \n",
            "dtypes: float64(2), int64(4), uint8(3)\n",
            "memory usage: 44.5 KB\n"
          ]
        }
      ],
      "source": [
        "train_data.info()"
      ]
    },
    {
      "cell_type": "code",
      "execution_count": 45,
      "metadata": {
        "colab": {
          "base_uri": "https://localhost:8080/",
          "height": 204
        },
        "id": "lav4vW1rU4yT",
        "outputId": "2d406da2-0a81-4fe3-c09d-ecb991f26bc8"
      },
      "outputs": [
        {
          "data": {
            "text/html": [
              "<div>\n",
              "<style scoped>\n",
              "    .dataframe tbody tr th:only-of-type {\n",
              "        vertical-align: middle;\n",
              "    }\n",
              "\n",
              "    .dataframe tbody tr th {\n",
              "        vertical-align: top;\n",
              "    }\n",
              "\n",
              "    .dataframe thead th {\n",
              "        text-align: right;\n",
              "    }\n",
              "</style>\n",
              "<table border=\"1\" class=\"dataframe\">\n",
              "  <thead>\n",
              "    <tr style=\"text-align: right;\">\n",
              "      <th></th>\n",
              "      <th>Survived</th>\n",
              "      <th>Pclass</th>\n",
              "      <th>Sex</th>\n",
              "      <th>Age</th>\n",
              "      <th>Fare</th>\n",
              "      <th>familyNo</th>\n",
              "      <th>Embarked_C</th>\n",
              "      <th>Embarked_Q</th>\n",
              "      <th>Embarked_S</th>\n",
              "    </tr>\n",
              "  </thead>\n",
              "  <tbody>\n",
              "    <tr>\n",
              "      <th>0</th>\n",
              "      <td>0</td>\n",
              "      <td>3.0</td>\n",
              "      <td>0.0</td>\n",
              "      <td>22.0</td>\n",
              "      <td>7.2500</td>\n",
              "      <td>1.0</td>\n",
              "      <td>0.0</td>\n",
              "      <td>0.0</td>\n",
              "      <td>1.0</td>\n",
              "    </tr>\n",
              "    <tr>\n",
              "      <th>1</th>\n",
              "      <td>1</td>\n",
              "      <td>1.0</td>\n",
              "      <td>1.0</td>\n",
              "      <td>38.0</td>\n",
              "      <td>71.2833</td>\n",
              "      <td>1.0</td>\n",
              "      <td>1.0</td>\n",
              "      <td>0.0</td>\n",
              "      <td>0.0</td>\n",
              "    </tr>\n",
              "    <tr>\n",
              "      <th>2</th>\n",
              "      <td>1</td>\n",
              "      <td>3.0</td>\n",
              "      <td>1.0</td>\n",
              "      <td>26.0</td>\n",
              "      <td>7.9250</td>\n",
              "      <td>0.0</td>\n",
              "      <td>0.0</td>\n",
              "      <td>0.0</td>\n",
              "      <td>1.0</td>\n",
              "    </tr>\n",
              "    <tr>\n",
              "      <th>3</th>\n",
              "      <td>1</td>\n",
              "      <td>1.0</td>\n",
              "      <td>1.0</td>\n",
              "      <td>35.0</td>\n",
              "      <td>53.1000</td>\n",
              "      <td>1.0</td>\n",
              "      <td>0.0</td>\n",
              "      <td>0.0</td>\n",
              "      <td>1.0</td>\n",
              "    </tr>\n",
              "    <tr>\n",
              "      <th>4</th>\n",
              "      <td>0</td>\n",
              "      <td>3.0</td>\n",
              "      <td>0.0</td>\n",
              "      <td>35.0</td>\n",
              "      <td>8.0500</td>\n",
              "      <td>0.0</td>\n",
              "      <td>0.0</td>\n",
              "      <td>0.0</td>\n",
              "      <td>1.0</td>\n",
              "    </tr>\n",
              "  </tbody>\n",
              "</table>\n",
              "</div>"
            ],
            "text/plain": [
              "   Survived  Pclass  Sex   Age     Fare  familyNo  Embarked_C  Embarked_Q  \\\n",
              "0         0     3.0  0.0  22.0   7.2500       1.0         0.0         0.0   \n",
              "1         1     1.0  1.0  38.0  71.2833       1.0         1.0         0.0   \n",
              "2         1     3.0  1.0  26.0   7.9250       0.0         0.0         0.0   \n",
              "3         1     1.0  1.0  35.0  53.1000       1.0         0.0         0.0   \n",
              "4         0     3.0  0.0  35.0   8.0500       0.0         0.0         0.0   \n",
              "\n",
              "   Embarked_S  \n",
              "0         1.0  \n",
              "1         0.0  \n",
              "2         1.0  \n",
              "3         1.0  \n",
              "4         1.0  "
            ]
          },
          "execution_count": 45,
          "metadata": {},
          "output_type": "execute_result"
        }
      ],
      "source": [
        "cols = list(train_data.columns.values)\n",
        "for i in cols:\n",
        "  if i != \"Survived\":\n",
        "    train_data[i] = train_data[i].astype(float)\n",
        "    test_data[i] = test_data[i].astype(float)\n",
        "    # test_data[i] = standard(test_data[i])\n",
        "train_data.head()"
      ]
    },
    {
      "cell_type": "markdown",
      "metadata": {
        "id": "MSAyxFE7igN4"
      },
      "source": [
        "It is obvious that 'Age' column contain null rows."
      ]
    },
    {
      "cell_type": "code",
      "execution_count": 46,
      "metadata": {
        "id": "5d__uUUoiR8F"
      },
      "outputs": [],
      "source": [
        "# Fill in missing values for 'Age' column with median\n",
        "train_data['Age'] = train_data['Age'].fillna(train_data['Age'].median())"
      ]
    },
    {
      "cell_type": "markdown",
      "metadata": {
        "id": "25Wu0ab5Rx2z"
      },
      "source": [
        "##### Visualization:"
      ]
    },
    {
      "cell_type": "code",
      "execution_count": 47,
      "metadata": {
        "colab": {
          "base_uri": "https://localhost:8080/",
          "height": 299
        },
        "id": "YuGozHt_R0ju",
        "outputId": "45365a48-0633-46ba-f85d-1c1f8241389a"
      },
      "outputs": [
        {
          "name": "stdout",
          "output_type": "stream",
          "text": [
            "Age plot:\n"
          ]
        },
        {
          "data": {
            "text/plain": [
              "<Axes: >"
            ]
          },
          "execution_count": 47,
          "metadata": {},
          "output_type": "execute_result"
        },
        {
          "data": {
            "image/png": "[encoded data removed]",
            "text/plain": [
              "<Figure size 640x480 with 1 Axes>"
            ]
          },
          "metadata": {},
          "output_type": "display_data"
        }
      ],
      "source": [
        "print(\"Age plot:\")\n",
        "train_data[\"Age\"].plot()"
      ]
    },
    {
      "cell_type": "code",
      "execution_count": 48,
      "metadata": {
        "colab": {
          "base_uri": "https://localhost:8080/",
          "height": 299
        },
        "id": "z-1_k0k7T1BT",
        "outputId": "6d937197-09c8-4e13-f291-e84dc18514d9"
      },
      "outputs": [
        {
          "name": "stdout",
          "output_type": "stream",
          "text": [
            "Fare plot:\n"
          ]
        },
        {
          "data": {
            "text/plain": [
              "<Axes: >"
            ]
          },
          "execution_count": 48,
          "metadata": {},
          "output_type": "execute_result"
        },
        {
          "data": {
            "image/png": "[encoded data removed]",
            "text/plain": [
              "<Figure size 640x480 with 1 Axes>"
            ]
          },
          "metadata": {},
          "output_type": "display_data"
        }
      ],
      "source": [
        "print(\"Fare plot:\")\n",
        "train_data[\"Fare\"].plot()"
      ]
    },
    {
      "cell_type": "markdown",
      "metadata": {},
      "source": [
        "In this section, we visualize the distributions of two key numerical features: Age and Fare. Histograms are used to provide a clear overview of the data's distribution and help us understand the central tendency and spread of these variables.\n",
        "\n",
        "#### Age Distribution\n",
        "\n",
        "- The \"Age\" distribution histogram reveals the distribution of passengers' ages on the Titanic.\n",
        "- The x-axis represents different age intervals, while the y-axis shows the frequency or count of passengers falling into each interval.\n",
        "\n",
        "#### Fare Distribution\n",
        "\n",
        "- The \"Fare\" distribution histogram visualizes the distribution of ticket fares paid by passengers.\n",
        "- Similar to the \"Age\" distribution, the x-axis represents fare intervals, and the y-axis displays the frequency or count of passengers in each interval.\n",
        "\n",
        "\n"
      ]
    },
    {
      "cell_type": "code",
      "execution_count": 49,
      "metadata": {},
      "outputs": [
        {
          "data": {
            "image/png": "[encoded data removed]",
            "text/plain": [
              "<Figure size 1200x400 with 2 Axes>"
            ]
          },
          "metadata": {},
          "output_type": "display_data"
        }
      ],
      "source": [
        "plt.figure(figsize=(12, 4))\n",
        "plt.subplot(1, 2, 1)\n",
        "plt.hist(train_data[\"Age\"], bins=20, color='skyblue', edgecolor='black')\n",
        "plt.xlabel('Age')\n",
        "plt.ylabel('Frequency')\n",
        "plt.title('Age Distribution')\n",
        "\n",
        "plt.subplot(1, 2, 2)\n",
        "plt.hist(train_data[\"Fare\"], bins=20, color='lightcoral', edgecolor='black')\n",
        "plt.xlabel('Fare')\n",
        "plt.ylabel('Frequency')\n",
        "plt.title('Fare Distribution')\n",
        "\n",
        "plt.tight_layout()\n",
        "plt.show()\n"
      ]
    },
    {
      "cell_type": "markdown",
      "metadata": {},
      "source": [
        "In this section, we create side-by-side bar plots to visualize the relationship between survival and two categorical features: \"Passenger Class\" ('Pclass') and \"Gender\" ('Sex'). These plots provide a clear overview of how the chances of survival vary among different passenger classes and genders.\n"
      ]
    },
    {
      "cell_type": "code",
      "execution_count": 50,
      "metadata": {},
      "outputs": [
        {
          "data": {
            "image/png": "[encoded data removed]",
            "text/plain": [
              "<Figure size 1200x400 with 2 Axes>"
            ]
          },
          "metadata": {},
          "output_type": "display_data"
        }
      ],
      "source": [
        "# Visualize the distribution of 'Pclass' and  'Sex'using bar plots\n",
        "plt.figure(figsize=(12, 4))\n",
        "plt.subplot(1, 2, 1)\n",
        "sns.countplot(data=train_data, x='Pclass', hue='Survived', palette='Set1')\n",
        "plt.title('Survival by Pclass')\n",
        "\n",
        "plt.subplot(1, 2, 2)\n",
        "sns.countplot(data=train_data, x='Sex', hue='Survived', palette='Set2')\n",
        "plt.title('Survival by Sex')\n",
        "\n",
        "plt.tight_layout()\n",
        "plt.show()"
      ]
    },
    {
      "cell_type": "markdown",
      "metadata": {},
      "source": [
        " The correlation heatmap bellow displays the relationships between numerical features and survival.\n",
        " - The selected numerical features include 'Age', 'Fare', and 'familyNo'.\n",
        " - Each cell in the heatmap represents the correlation coefficient between two variables.\n",
        " - Positive values indicate a positive correlation, while negative values indicate a negative correlation.\n",
        " - Values close to 1 or -1 represent strong correlations, while values close to 0 indicate weak correlations.\n",
        " - The 'Survived' row in the heatmap shows the correlations of these numerical features with survival.\n"
      ]
    },
    {
      "cell_type": "code",
      "execution_count": 51,
      "metadata": {},
      "outputs": [
        {
          "data": {
            "text/plain": [
              "Text(0.5, 1.0, 'Correlation Heatmap')"
            ]
          },
          "execution_count": 51,
          "metadata": {},
          "output_type": "execute_result"
        },
        {
          "data": {
            "image/png": "[encoded data removed]",
            "text/plain": [
              "<Figure size 1000x800 with 2 Axes>"
            ]
          },
          "metadata": {},
          "output_type": "display_data"
        }
      ],
      "source": [
        "numerical_features = ['Age', 'Fare', 'familyNo']\n",
        "corr_matrix = train_data[numerical_features + ['Survived']].corr()\n",
        "\n",
        "plt.figure(figsize=(10, 8))\n",
        "sns.heatmap(corr_matrix, annot=True, cmap='coolwarm', linewidths=0.5, fmt=\".2f\")\n",
        "plt.title('Correlation Heatmap')"
      ]
    },
    {
      "cell_type": "markdown",
      "metadata": {
        "id": "nmhZax9Ujook"
      },
      "source": [
        "standardizing data:"
      ]
    },
    {
      "cell_type": "code",
      "execution_count": 52,
      "metadata": {
        "id": "fMUnyZvCjsUz"
      },
      "outputs": [],
      "source": [
        "def standard(x):\n",
        "\n",
        "  s_d = np.std(x, axis=0)\n",
        "  e_x = np.mean(x, axis=0)\n",
        "\n",
        "\n",
        "  x_st = (x - e_x) / s_d\n",
        "\n",
        "  return x_st "
      ]
    },
    {
      "cell_type": "code",
      "execution_count": 56,
      "metadata": {},
      "outputs": [],
      "source": [
        "train_before = copy.deepcopy(train_data)\n",
        "test_before = copy.deepcopy(test_data)"
      ]
    },
    {
      "cell_type": "code",
      "execution_count": 57,
      "metadata": {
        "colab": {
          "base_uri": "https://localhost:8080/",
          "height": 204
        },
        "id": "JCL712xMjua1",
        "outputId": "8ca2f76d-82e0-4f12-dea8-839b79e1cde1"
      },
      "outputs": [
        {
          "data": {
            "text/html": [
              "<div>\n",
              "<style scoped>\n",
              "    .dataframe tbody tr th:only-of-type {\n",
              "        vertical-align: middle;\n",
              "    }\n",
              "\n",
              "    .dataframe tbody tr th {\n",
              "        vertical-align: top;\n",
              "    }\n",
              "\n",
              "    .dataframe thead th {\n",
              "        text-align: right;\n",
              "    }\n",
              "</style>\n",
              "<table border=\"1\" class=\"dataframe\">\n",
              "  <thead>\n",
              "    <tr style=\"text-align: right;\">\n",
              "      <th></th>\n",
              "      <th>Survived</th>\n",
              "      <th>Pclass</th>\n",
              "      <th>Sex</th>\n",
              "      <th>Age</th>\n",
              "      <th>Fare</th>\n",
              "      <th>familyNo</th>\n",
              "      <th>Embarked_C</th>\n",
              "      <th>Embarked_Q</th>\n",
              "      <th>Embarked_S</th>\n",
              "    </tr>\n",
              "  </thead>\n",
              "  <tbody>\n",
              "    <tr>\n",
              "      <th>0</th>\n",
              "      <td>0</td>\n",
              "      <td>3.0</td>\n",
              "      <td>0.0</td>\n",
              "      <td>-0.565736</td>\n",
              "      <td>-0.502445</td>\n",
              "      <td>1.0</td>\n",
              "      <td>0.0</td>\n",
              "      <td>0.0</td>\n",
              "      <td>1.0</td>\n",
              "    </tr>\n",
              "    <tr>\n",
              "      <th>1</th>\n",
              "      <td>1</td>\n",
              "      <td>1.0</td>\n",
              "      <td>1.0</td>\n",
              "      <td>0.663861</td>\n",
              "      <td>0.786845</td>\n",
              "      <td>1.0</td>\n",
              "      <td>1.0</td>\n",
              "      <td>0.0</td>\n",
              "      <td>0.0</td>\n",
              "    </tr>\n",
              "    <tr>\n",
              "      <th>2</th>\n",
              "      <td>1</td>\n",
              "      <td>3.0</td>\n",
              "      <td>1.0</td>\n",
              "      <td>-0.258337</td>\n",
              "      <td>-0.488854</td>\n",
              "      <td>0.0</td>\n",
              "      <td>0.0</td>\n",
              "      <td>0.0</td>\n",
              "      <td>1.0</td>\n",
              "    </tr>\n",
              "    <tr>\n",
              "      <th>3</th>\n",
              "      <td>1</td>\n",
              "      <td>1.0</td>\n",
              "      <td>1.0</td>\n",
              "      <td>0.433312</td>\n",
              "      <td>0.420730</td>\n",
              "      <td>1.0</td>\n",
              "      <td>0.0</td>\n",
              "      <td>0.0</td>\n",
              "      <td>1.0</td>\n",
              "    </tr>\n",
              "    <tr>\n",
              "      <th>4</th>\n",
              "      <td>0</td>\n",
              "      <td>3.0</td>\n",
              "      <td>0.0</td>\n",
              "      <td>0.433312</td>\n",
              "      <td>-0.486337</td>\n",
              "      <td>0.0</td>\n",
              "      <td>0.0</td>\n",
              "      <td>0.0</td>\n",
              "      <td>1.0</td>\n",
              "    </tr>\n",
              "  </tbody>\n",
              "</table>\n",
              "</div>"
            ],
            "text/plain": [
              "   Survived  Pclass  Sex       Age      Fare  familyNo  Embarked_C  \\\n",
              "0         0     3.0  0.0 -0.565736 -0.502445       1.0         0.0   \n",
              "1         1     1.0  1.0  0.663861  0.786845       1.0         1.0   \n",
              "2         1     3.0  1.0 -0.258337 -0.488854       0.0         0.0   \n",
              "3         1     1.0  1.0  0.433312  0.420730       1.0         0.0   \n",
              "4         0     3.0  0.0  0.433312 -0.486337       0.0         0.0   \n",
              "\n",
              "   Embarked_Q  Embarked_S  \n",
              "0         0.0         1.0  \n",
              "1         0.0         0.0  \n",
              "2         0.0         1.0  \n",
              "3         0.0         1.0  \n",
              "4         0.0         1.0  "
            ]
          },
          "execution_count": 57,
          "metadata": {},
          "output_type": "execute_result"
        }
      ],
      "source": [
        "train_data[\"Age\"] = standard(train_data[\"Age\"])\n",
        "train_data[\"Fare\"] = standard(train_data[\"Fare\"])\n",
        "\n",
        "train_data.head()"
      ]
    },
    {
      "cell_type": "code",
      "execution_count": 58,
      "metadata": {
        "colab": {
          "base_uri": "https://localhost:8080/",
          "height": 204
        },
        "id": "HDH7yN-aXv9Y",
        "outputId": "e6d4cff0-7c8d-4e6e-803d-27bb8e42bafd"
      },
      "outputs": [
        {
          "data": {
            "text/html": [
              "<div>\n",
              "<style scoped>\n",
              "    .dataframe tbody tr th:only-of-type {\n",
              "        vertical-align: middle;\n",
              "    }\n",
              "\n",
              "    .dataframe tbody tr th {\n",
              "        vertical-align: top;\n",
              "    }\n",
              "\n",
              "    .dataframe thead th {\n",
              "        text-align: right;\n",
              "    }\n",
              "</style>\n",
              "<table border=\"1\" class=\"dataframe\">\n",
              "  <thead>\n",
              "    <tr style=\"text-align: right;\">\n",
              "      <th></th>\n",
              "      <th>Pclass</th>\n",
              "      <th>Sex</th>\n",
              "      <th>Age</th>\n",
              "      <th>Fare</th>\n",
              "      <th>familyNo</th>\n",
              "      <th>Embarked_C</th>\n",
              "      <th>Embarked_Q</th>\n",
              "      <th>Embarked_S</th>\n",
              "    </tr>\n",
              "  </thead>\n",
              "  <tbody>\n",
              "    <tr>\n",
              "      <th>0</th>\n",
              "      <td>3.0</td>\n",
              "      <td>0.0</td>\n",
              "      <td>34.5</td>\n",
              "      <td>7.8292</td>\n",
              "      <td>0.0</td>\n",
              "      <td>0.0</td>\n",
              "      <td>1.0</td>\n",
              "      <td>0.0</td>\n",
              "    </tr>\n",
              "    <tr>\n",
              "      <th>1</th>\n",
              "      <td>3.0</td>\n",
              "      <td>1.0</td>\n",
              "      <td>47.0</td>\n",
              "      <td>7.0000</td>\n",
              "      <td>1.0</td>\n",
              "      <td>0.0</td>\n",
              "      <td>0.0</td>\n",
              "      <td>1.0</td>\n",
              "    </tr>\n",
              "    <tr>\n",
              "      <th>2</th>\n",
              "      <td>2.0</td>\n",
              "      <td>0.0</td>\n",
              "      <td>62.0</td>\n",
              "      <td>9.6875</td>\n",
              "      <td>0.0</td>\n",
              "      <td>0.0</td>\n",
              "      <td>1.0</td>\n",
              "      <td>0.0</td>\n",
              "    </tr>\n",
              "    <tr>\n",
              "      <th>3</th>\n",
              "      <td>3.0</td>\n",
              "      <td>0.0</td>\n",
              "      <td>27.0</td>\n",
              "      <td>8.6625</td>\n",
              "      <td>0.0</td>\n",
              "      <td>0.0</td>\n",
              "      <td>0.0</td>\n",
              "      <td>1.0</td>\n",
              "    </tr>\n",
              "    <tr>\n",
              "      <th>4</th>\n",
              "      <td>3.0</td>\n",
              "      <td>1.0</td>\n",
              "      <td>22.0</td>\n",
              "      <td>12.2875</td>\n",
              "      <td>2.0</td>\n",
              "      <td>0.0</td>\n",
              "      <td>0.0</td>\n",
              "      <td>1.0</td>\n",
              "    </tr>\n",
              "  </tbody>\n",
              "</table>\n",
              "</div>"
            ],
            "text/plain": [
              "   Pclass  Sex   Age     Fare  familyNo  Embarked_C  Embarked_Q  Embarked_S\n",
              "0     3.0  0.0  34.5   7.8292       0.0         0.0         1.0         0.0\n",
              "1     3.0  1.0  47.0   7.0000       1.0         0.0         0.0         1.0\n",
              "2     2.0  0.0  62.0   9.6875       0.0         0.0         1.0         0.0\n",
              "3     3.0  0.0  27.0   8.6625       0.0         0.0         0.0         1.0\n",
              "4     3.0  1.0  22.0  12.2875       2.0         0.0         0.0         1.0"
            ]
          },
          "execution_count": 58,
          "metadata": {},
          "output_type": "execute_result"
        }
      ],
      "source": [
        "test_data.head()"
      ]
    },
    {
      "cell_type": "code",
      "execution_count": 59,
      "metadata": {
        "colab": {
          "base_uri": "https://localhost:8080/",
          "height": 204
        },
        "id": "ISrAP_rLXwFm",
        "outputId": "139b5ffa-4fdc-436d-8ba7-73a1b3f74fb9"
      },
      "outputs": [
        {
          "data": {
            "text/html": [
              "<div>\n",
              "<style scoped>\n",
              "    .dataframe tbody tr th:only-of-type {\n",
              "        vertical-align: middle;\n",
              "    }\n",
              "\n",
              "    .dataframe tbody tr th {\n",
              "        vertical-align: top;\n",
              "    }\n",
              "\n",
              "    .dataframe thead th {\n",
              "        text-align: right;\n",
              "    }\n",
              "</style>\n",
              "<table border=\"1\" class=\"dataframe\">\n",
              "  <thead>\n",
              "    <tr style=\"text-align: right;\">\n",
              "      <th></th>\n",
              "      <th>Pclass</th>\n",
              "      <th>Sex</th>\n",
              "      <th>Age</th>\n",
              "      <th>Fare</th>\n",
              "      <th>familyNo</th>\n",
              "      <th>Embarked_C</th>\n",
              "      <th>Embarked_Q</th>\n",
              "      <th>Embarked_S</th>\n",
              "    </tr>\n",
              "  </thead>\n",
              "  <tbody>\n",
              "    <tr>\n",
              "      <th>0</th>\n",
              "      <td>3.0</td>\n",
              "      <td>0.0</td>\n",
              "      <td>0.298549</td>\n",
              "      <td>-0.497811</td>\n",
              "      <td>0.0</td>\n",
              "      <td>0.0</td>\n",
              "      <td>1.0</td>\n",
              "      <td>0.0</td>\n",
              "    </tr>\n",
              "    <tr>\n",
              "      <th>1</th>\n",
              "      <td>3.0</td>\n",
              "      <td>1.0</td>\n",
              "      <td>1.181328</td>\n",
              "      <td>-0.512660</td>\n",
              "      <td>1.0</td>\n",
              "      <td>0.0</td>\n",
              "      <td>0.0</td>\n",
              "      <td>1.0</td>\n",
              "    </tr>\n",
              "    <tr>\n",
              "      <th>2</th>\n",
              "      <td>2.0</td>\n",
              "      <td>0.0</td>\n",
              "      <td>2.240662</td>\n",
              "      <td>-0.464532</td>\n",
              "      <td>0.0</td>\n",
              "      <td>0.0</td>\n",
              "      <td>1.0</td>\n",
              "      <td>0.0</td>\n",
              "    </tr>\n",
              "    <tr>\n",
              "      <th>3</th>\n",
              "      <td>3.0</td>\n",
              "      <td>0.0</td>\n",
              "      <td>-0.231118</td>\n",
              "      <td>-0.482888</td>\n",
              "      <td>0.0</td>\n",
              "      <td>0.0</td>\n",
              "      <td>0.0</td>\n",
              "      <td>1.0</td>\n",
              "    </tr>\n",
              "    <tr>\n",
              "      <th>4</th>\n",
              "      <td>3.0</td>\n",
              "      <td>1.0</td>\n",
              "      <td>-0.584229</td>\n",
              "      <td>-0.417971</td>\n",
              "      <td>2.0</td>\n",
              "      <td>0.0</td>\n",
              "      <td>0.0</td>\n",
              "      <td>1.0</td>\n",
              "    </tr>\n",
              "  </tbody>\n",
              "</table>\n",
              "</div>"
            ],
            "text/plain": [
              "   Pclass  Sex       Age      Fare  familyNo  Embarked_C  Embarked_Q  \\\n",
              "0     3.0  0.0  0.298549 -0.497811       0.0         0.0         1.0   \n",
              "1     3.0  1.0  1.181328 -0.512660       1.0         0.0         0.0   \n",
              "2     2.0  0.0  2.240662 -0.464532       0.0         0.0         1.0   \n",
              "3     3.0  0.0 -0.231118 -0.482888       0.0         0.0         0.0   \n",
              "4     3.0  1.0 -0.584229 -0.417971       2.0         0.0         0.0   \n",
              "\n",
              "   Embarked_S  \n",
              "0         0.0  \n",
              "1         1.0  \n",
              "2         0.0  \n",
              "3         1.0  \n",
              "4         1.0  "
            ]
          },
          "execution_count": 59,
          "metadata": {},
          "output_type": "execute_result"
        }
      ],
      "source": [
        "test_data[\"Age\"] = standard(test_data[\"Age\"])\n",
        "test_data[\"Fare\"] = standard(test_data[\"Fare\"])\n",
        "\n",
        "test_data.head()"
      ]
    },
    {
      "cell_type": "code",
      "execution_count": 60,
      "metadata": {},
      "outputs": [
        {
          "data": {
            "image/png": "[encoded data removed]",
            "text/plain": [
              "<Figure size 1200x600 with 4 Axes>"
            ]
          },
          "metadata": {},
          "output_type": "display_data"
        }
      ],
      "source": [
        "# Create subplots for Age and Fare before and after standardization\n",
        "plt.figure(figsize=(12, 6))\n",
        "\n",
        "# Subplot 1: Age Before Standardization\n",
        "plt.subplot(2, 2, 1)\n",
        "plt.hist(train_before['Age'], bins=20, color='skyblue', alpha=0.7)\n",
        "plt.title('Age Distribution Before Standardization')\n",
        "plt.xlabel('Age')\n",
        "plt.ylabel('Frequency')\n",
        "\n",
        "# Subplot 2: Age After Standardization\n",
        "plt.subplot(2, 2, 2)\n",
        "plt.hist(train_data['Age'], bins=20, color='lightcoral', alpha=0.7)\n",
        "plt.title('Age Distribution After Standardization')\n",
        "plt.xlabel('Standardized Age')\n",
        "plt.ylabel('Frequency')\n",
        "\n",
        "# Subplot 3: Fare Before Standardization\n",
        "plt.subplot(2, 2, 3)\n",
        "plt.hist(train_before['Fare'], bins=20, color='skyblue', alpha=0.7)\n",
        "plt.title('Fare Distribution Before Standardization')\n",
        "plt.xlabel('Fare')\n",
        "plt.ylabel('Frequency')\n",
        "\n",
        "# Subplot 4: Fare After Standardization\n",
        "plt.subplot(2, 2, 4)\n",
        "plt.hist(train_data['Fare'], bins=20, color='lightcoral', alpha=0.7)\n",
        "plt.title('Fare Distribution After Standardization')\n",
        "plt.xlabel('Standardized Fare')\n",
        "plt.ylabel('Frequency')\n",
        "\n",
        "# Adjust the layout for better readability\n",
        "plt.tight_layout()\n",
        "\n",
        "# Show the plots\n",
        "plt.show()\n"
      ]
    },
    {
      "cell_type": "markdown",
      "metadata": {
        "id": "ax4aQeIgnFmK"
      },
      "source": [
        "#### Training model:"
      ]
    },
    {
      "cell_type": "markdown",
      "metadata": {},
      "source": [
        "Defining the sigmoid function used in logistic regression."
      ]
    },
    {
      "cell_type": "code",
      "execution_count": 22,
      "metadata": {
        "id": "BTdpOBbgYKmH"
      },
      "outputs": [],
      "source": [
        "def sigmoid(z):\n",
        "    # The sigmoid function maps any input to a value between 0 and 1\n",
        "    return 1 / (1 + np.exp(-z))"
      ]
    },
    {
      "cell_type": "markdown",
      "metadata": {},
      "source": [
        "Defining a function to add an intercept term to the input data."
      ]
    },
    {
      "cell_type": "code",
      "execution_count": 23,
      "metadata": {
        "id": "OPPZMe6JYLLq"
      },
      "outputs": [],
      "source": [
        "def add_intercept(X):\n",
        "    # Add a column of ones to the input matrix to represent the intercept term\n",
        "    intercept = np.ones((X.shape[0], 1))\n",
        "    return np.concatenate((intercept, X), axis=1)"
      ]
    },
    {
      "cell_type": "markdown",
      "metadata": {},
      "source": [
        "    Logistic Regression with L2 Regularization.\n",
        "    \n",
        "    Parameters:\n",
        "        X (numpy.ndarray): Input features.\n",
        "        y (numpy.ndarray): Target labels.\n",
        "        num_iterations (int): Number of iterations for gradient descent.\n",
        "        learning_rate (float): Learning rate for gradient descent.\n",
        "        alpha (float): Regularization strength (L2 penalty).\n",
        "\n",
        "    Returns:\n",
        "        numpy.ndarray: Learned model weights."
      ]
    },
    {
      "cell_type": "code",
      "execution_count": 24,
      "metadata": {
        "id": "32KzWl2_a_wY"
      },
      "outputs": [],
      "source": [
        "# with L2 regularization\n",
        "\n",
        "def logistic_regression(X, y, num_iterations=100, learning_rate=0.1, alpha=0.1):\n",
        "    # Add intercept to the input data\n",
        "    X = add_intercept(X)\n",
        "    # Initialize weights to zeros\n",
        "    theta = np.zeros((X.shape[1],1))\n",
        "    \n",
        "    for i in range(num_iterations):\n",
        "        # Compute the dot product of input data and weights\n",
        "        z = np.dot(X, theta)\n",
        "        # Apply the sigmoid function to the dot product to get the predicted probabilities\n",
        "        h = sigmoid(z)\n",
        "        y = y.reshape(h.shape)\n",
        "        \n",
        "\n",
        "        # Compute the gradient of the cost function with L2 regularization\n",
        "\n",
        "        gradient = np.dot(X.T, (h - y)) / y.size + alpha * theta\n",
        "\n",
        "        # Update the weights using the gradient and learning rate\n",
        "        theta -= learning_rate * gradient\n",
        "    \n",
        "    return theta"
      ]
    },
    {
      "cell_type": "markdown",
      "metadata": {},
      "source": [
        "    Make predictions using logistic regression model.\n",
        "\n",
        "    Parameters:\n",
        "        X (numpy.ndarray): Input features.\n",
        "        theta (numpy.ndarray): Model weights.\n",
        "        threshold (float): Threshold for classification.\n",
        "\n",
        "    Returns:\n",
        "        numpy.ndarray: Predicted class labels."
      ]
    },
    {
      "cell_type": "code",
      "execution_count": 25,
      "metadata": {
        "id": "1kMgGwHlUTFu"
      },
      "outputs": [],
      "source": [
        "def predict(X, theta, threshold=0.5):\n",
        "  \n",
        "    # Add intercept to the input data\n",
        "    X = add_intercept(X)\n",
        "    # Predict probabilities using the learned weights\n",
        "    probabilities = sigmoid(np.dot(X, theta))\n",
        "    # Return predictions based on threshold\n",
        "    return (probabilities >= threshold).astype(int)"
      ]
    },
    {
      "cell_type": "markdown",
      "metadata": {},
      "source": [
        "    Calculate accuracy of predicted labels.\n",
        "\n",
        "    Parameters:\n",
        "        y_pred (numpy.ndarray): Predicted labels.\n",
        "        y (numpy.ndarray): True labels.\n",
        "\n",
        "    Returns:\n",
        "        float: Accuracy."
      ]
    },
    {
      "cell_type": "code",
      "execution_count": 26,
      "metadata": {
        "id": "A7LAcdUPxlWg"
      },
      "outputs": [],
      "source": [
        "def acc(y_pred, y):\n",
        "  n = len(y_pred)\n",
        "\n",
        "  false_ex = 0 \n",
        "  for i in range(len(y_pred)) :\n",
        "    if y_pred[i] != y[i]:\n",
        "      false_ex += 1\n",
        "  ac = n - false_ex\n",
        "  ac /= n \n",
        "\n",
        "  return ac"
      ]
    },
    {
      "cell_type": "code",
      "execution_count": 27,
      "metadata": {
        "id": "4_D2z38WXK7o"
      },
      "outputs": [],
      "source": [
        "X_train = train_data[['Pclass',\n",
        " 'Sex',\n",
        " 'Age',\n",
        " 'Fare',\n",
        " 'familyNo',\n",
        " 'Embarked_C',\n",
        " 'Embarked_Q',\n",
        " 'Embarked_S']].copy()\n",
        "X_train = X_train.values\n",
        "y_train = train_data[['Survived']].copy()\n",
        "y_train = y_train.values\n",
        "\n",
        "X_test = test_data[['Pclass',\n",
        " 'Sex',\n",
        " 'Age',\n",
        " 'Fare',\n",
        " 'familyNo',\n",
        " 'Embarked_C',\n",
        " 'Embarked_Q',\n",
        " 'Embarked_S']].copy()\n",
        "X_test = X_test.values\n",
        "# y_test = test_data[['Survived']].copy()\n",
        "# y_test = y_test.values"
      ]
    },
    {
      "cell_type": "code",
      "execution_count": 28,
      "metadata": {
        "id": "WQ28C9Uqr7Np"
      },
      "outputs": [],
      "source": [
        "theta = logistic_regression(X_train, y_train, num_iterations=3000, learning_rate=0.02)"
      ]
    },
    {
      "cell_type": "code",
      "execution_count": 29,
      "metadata": {
        "id": "e7z_9kkUxVUD"
      },
      "outputs": [],
      "source": [
        "train_pred  = predict(X_train, theta)\n",
        "score = acc(train_pred, y_train)"
      ]
    },
    {
      "cell_type": "code",
      "execution_count": 30,
      "metadata": {
        "colab": {
          "base_uri": "https://localhost:8080/"
        },
        "id": "Cyz-y8fLx8mN",
        "outputId": "f787aece-f480-4487-a10a-0572b485f239"
      },
      "outputs": [
        {
          "data": {
            "text/plain": [
              "0.7497194163860831"
            ]
          },
          "execution_count": 30,
          "metadata": {},
          "output_type": "execute_result"
        }
      ],
      "source": [
        "score"
      ]
    },
    {
      "cell_type": "markdown",
      "metadata": {},
      "source": [
        "## Model Validation and Hyperparameter Tuning\n",
        "\n",
        "In the following sections of the code, I are performing model validation, hyperparameter tuning, and final model training for my logistic regression model. This is a crucial part of machine learning model development to ensure my model's performance and generalization.\n",
        "\n",
        "### Cross-Validation\n",
        "\n",
        "The `cross_validation` function is used for k-fold cross-validation:\n",
        "- `df`: The dataset\n",
        "- `k`: The number of folds for cross-validation\n",
        "- `iter`: The number of iterations for training\n",
        "- `learning_rate`: The learning rate for gradient descent\n",
        "- `alpha`: The regularization parameter\n",
        "\n",
        "Inside the function:\n",
        "- The dataset is shuffled to ensure randomness.\n",
        "- The dataset is divided into `k` roughly equal parts.\n",
        "- For each fold:\n",
        "  - One part of the data is used as the validation set (`cv`), while the remaining data is used as the training set (`train`).\n",
        "  - The model is trained using logistic regression (`logistic_regression` function) on the training set with the specified parameters.\n",
        "  - Predictions are made on both the training and validation sets.\n",
        "  - The accuracy of the predictions is computed for both sets and stored in `train_err_arr` and `cv_err_arr`.\n",
        "\n",
        "The function returns two arrays: `train_err_arr` containing training accuracy for each fold, and `cv_err_arr` containing cross-validation accuracy for each fold.\n"
      ]
    },
    {
      "cell_type": "code",
      "execution_count": 31,
      "metadata": {
        "id": "Qn-3mCMEyjcs"
      },
      "outputs": [],
      "source": [
        "def cross_validation(df, k, iter, learning_rate, alpha):\n",
        "\n",
        "  #shuffling the dataset\n",
        "  df = shuffle(df)\n",
        "\n",
        "  #partitioning the dataset into k folds\n",
        "  per_array = np.array_split(df.reindex(np.random.permutation(df.index)),k)\n",
        "\n",
        "  train_err_arr = []\n",
        "  cv_err_arr = []\n",
        "\n",
        "  for i in range(k):\n",
        "\n",
        "    #Choose the 𝑖-th group as the held-out validation group\n",
        "    cv = per_array[i]\n",
        "\n",
        "    #Train the model on all but the 𝑖-th group of data\n",
        "    train =  pd.DataFrame(columns = list(df.columns))\n",
        "\n",
        "    for j in range(k):\n",
        "\n",
        "      if j != i:\n",
        "        train = pd.concat([train, per_array[j]])\n",
        "\n",
        "    #training model\n",
        "\n",
        "    columns = list(df.columns)\n",
        "    col = [i for i in columns if i!=\"Survived\" ]\n",
        "\n",
        "    #extracting x and y of train set\n",
        "    y_train = np.array(train['Survived'])\n",
        "    x_train = np.array(train[col]) \n",
        "\n",
        "\n",
        "    #extracting x and y of cv set\n",
        "    y_cv = np.array(cv['Survived'])\n",
        "    x_cv = np.array(cv[col])\n",
        "\n",
        "    \n",
        "    y_train = y_train.reshape((-1,1))\n",
        "    y_train = y_train.astype(float)\n",
        "    #finding weights\n",
        "    w_s = logistic_regression(x_train, y_train, iter, learning_rate, alpha) \n",
        "    \n",
        "\n",
        "    #predicting train set\n",
        "    y_pred_train = predict(x_train, w_s)\n",
        "\n",
        "    #finding prediction error\n",
        "    error = acc(y_pred_train, y_train)\n",
        "    train_err_arr.append(error)\n",
        "\n",
        "\n",
        "    #predicting cv set\n",
        "    y_pred_cv = predict( x_cv, w_s)\n",
        "    #finding prediction error\n",
        "    error = acc(y_pred_cv, y_cv)\n",
        "    cv_err_arr.append(error)\n",
        "\n",
        "  \n",
        "  return train_err_arr, cv_err_arr"
      ]
    },
    {
      "cell_type": "code",
      "execution_count": 32,
      "metadata": {
        "id": "UW7xRq-r8SQb"
      },
      "outputs": [],
      "source": [
        "train_err_arr, cv_err_arr = cross_validation(train_data, 5, 1000, 0.02, 0.1)"
      ]
    },
    {
      "cell_type": "code",
      "execution_count": 33,
      "metadata": {
        "id": "lupZqfHi2XNY"
      },
      "outputs": [],
      "source": [
        "def Average(lst):\n",
        "    return sum(lst) / len(lst)"
      ]
    },
    {
      "cell_type": "markdown",
      "metadata": {},
      "source": [
        "### Multiple Repetitions of Cross-Validation\n",
        "\n",
        "The `cross_rep` function is used for multiple repetitions of cross-validation:\n",
        "- It takes `learning_rate` and `alpha` as parameters.\n",
        "\n",
        "Inside the function:\n",
        "- It performs 10 repetitions of cross-validation using the same `cross_validation` function.\n",
        "- For each repetition, the training and cross-validation accuracies are stored in `train_e` and `cv_e` arrays.\n",
        "- After all repetitions, it calculates the average training and cross-validation accuracies.\n",
        "\n",
        "The function returns the average training and cross-validation accuracies over the repetitions.\n"
      ]
    },
    {
      "cell_type": "code",
      "execution_count": 34,
      "metadata": {
        "id": "kfsu4NyC1fEG"
      },
      "outputs": [],
      "source": [
        "def cross_rep(learning_rate, alpha):\n",
        "\n",
        "  train_e = []\n",
        "  cv_e = []\n",
        "  # 10 repetition\n",
        "  for m in range(10):\n",
        "    train_err_arr, cv_err_arr = cross_validation(train_data, 5, 1000, learning_rate, alpha)\n",
        "            \n",
        "    for s in range(5):\n",
        "      train_e.append(train_err_arr[s])\n",
        "      cv_e.append(cv_err_arr[s]) \n",
        "  train_av = Average(train_e)\n",
        "  cv_av = Average(cv_e)\n",
        "\n",
        "  return train_av, cv_av"
      ]
    },
    {
      "cell_type": "markdown",
      "metadata": {
        "id": "87uEXIp8rXeU"
      },
      "source": [
        "### Hyperparameter Tuning\n",
        "\n",
        "- I have defined a range of values for `learning_rate` and `alpha` in the `learning_arr` and `alpha_arr` arrays.\n",
        "- A nested loop runs through these arrays to iterate over different combinations of hyperparameters.\n",
        "- For each combination, the `cross_rep` function is called to assess the model's performance (average training and cross-validation accuracy).\n",
        "- The results (learning rate, alpha, training accuracy, and cross-validation accuracy) are printed to help you choose the best hyperparameters.\n",
        "- Based on these results, you have identified the best combination of hyperparameters: learning rate = 0.05 and alpha = 0.01."
      ]
    },
    {
      "cell_type": "code",
      "execution_count": 35,
      "metadata": {
        "colab": {
          "base_uri": "https://localhost:8080/"
        },
        "id": "p73HFwYRsMs1",
        "outputId": "7a4f86a6-dd86-449c-8b07-95d5e9862ec5"
      },
      "outputs": [
        {
          "name": "stdout",
          "output_type": "stream",
          "text": [
            "learning rate =  0.01  , alpha =  0.01  , accuracy on train =  76.0577911026364  , accuracy on cv =  75.55809428158938\n",
            "learning rate =  0.01  , alpha =  0.05  , accuracy on train =  74.7867571741494  , accuracy on cv =  74.39859393635051\n",
            "learning rate =  0.01  , alpha =  0.5  , accuracy on train =  68.7037954835558  , accuracy on cv =  68.68859456405751\n",
            "learning rate =  0.05  , alpha =  0.01  , accuracy on train =  80.79129568053955  , accuracy on cv =  80.5389492185048\n",
            "learning rate =  0.05  , alpha =  0.05  , accuracy on train =  79.11606284570657  , accuracy on cv =  78.45100746971313\n",
            "learning rate =  0.05  , alpha =  0.5  , accuracy on train =  68.7822147280836  , accuracy on cv =  68.56280208398718\n",
            "learning rate =  0.5  , alpha =  0.01  , accuracy on train =  80.64822241833053  , accuracy on cv =  80.15799384847155\n",
            "learning rate =  0.5  , alpha =  0.05  , accuracy on train =  79.18342342058402  , accuracy on cv =  78.37329734479944\n",
            "learning rate =  0.5  , alpha =  0.5  , accuracy on train =  68.81873552169189  , accuracy on cv =  68.58627832527779\n"
          ]
        }
      ],
      "source": [
        "learning_arr = [0.01, 0.05, 0.5]\n",
        "alpha_arr = [0.01, 0.05, 0.5]\n",
        "\n",
        "for l in learning_arr:\n",
        "  for a in alpha_arr:\n",
        "    tr_e, cv_e = cross_rep(l, a)\n",
        "    print(\"learning rate = \", l, \" , alpha = \", a, \" , accuracy on train = \", tr_e*100, \" , accuracy on cv = \", cv_e*100)\n"
      ]
    },
    {
      "cell_type": "markdown",
      "metadata": {
        "id": "bJbWeTFmiXJP"
      },
      "source": [
        "These are the results of running a logistic regression on the Titanic dataset with different combinations of learning rate and regularization strength (alpha) hyperparameters. The model was trained on the training set and tested on the cross-validation set.\n",
        "\n",
        "The accuracy on the training set and cross-validation set are reported for each combination of hyperparameters.\n",
        "\n",
        "The results show that the highest accuracy on both the training and cross-validation sets was achieved with a learning rate of 0.05 and an alpha of 0.01. Lower values of learning rate and alpha resulted in lower accuracy on the training and cross-validation sets. Higher values of learning rate and alpha resulted in accuracy on the training set, but not on the cross-validation set, which indicates that the model is overfitting the training set."
      ]
    },
    {
      "cell_type": "markdown",
      "metadata": {
        "id": "vqOP_hFCuOGl"
      },
      "source": [
        "From the result of the code we get that the best params are:\\\n",
        "**learning rate = 0.05 and alpha = 0.01**"
      ]
    },
    {
      "cell_type": "code",
      "execution_count": 36,
      "metadata": {
        "id": "lNLfOLSjBjTF"
      },
      "outputs": [],
      "source": [
        "theta = logistic_regression(X_train, y_train, num_iterations=3000, learning_rate=0.05, alpha = 0.01)"
      ]
    },
    {
      "cell_type": "code",
      "execution_count": 37,
      "metadata": {
        "id": "ZXTR9lxkBWWL"
      },
      "outputs": [],
      "source": [
        "y_pred_test = predict(X_test, theta)"
      ]
    },
    {
      "cell_type": "code",
      "execution_count": 38,
      "metadata": {
        "colab": {
          "base_uri": "https://localhost:8080/"
        },
        "id": "tmNEAwtSxCph",
        "outputId": "0b244bfb-277e-48e8-adc1-c153692b4e20"
      },
      "outputs": [
        {
          "name": "stdout",
          "output_type": "stream",
          "text": [
            "     0\n",
            "0    0\n",
            "1    0\n",
            "2    0\n",
            "3    0\n",
            "4    1\n",
            "..  ..\n",
            "413  0\n",
            "414  1\n",
            "415  0\n",
            "416  0\n",
            "417  0\n",
            "\n",
            "[418 rows x 1 columns]\n"
          ]
        }
      ],
      "source": [
        "# convert predicted array into dataframe\n",
        "DF = pd.DataFrame(y_pred_test)\n",
        "print(DF)\n",
        " \n",
        "# save the dataframe as a csv file\n",
        "DF.to_csv(\"prediction.csv\")"
      ]
    }
  ],
  "metadata": {
    "colab": {
      "provenance": []
    },
    "kernelspec": {
      "display_name": "Python 3",
      "name": "python3"
    },
    "language_info": {
      "codemirror_mode": {
        "name": "ipython",
        "version": 3
      },
      "file_extension": ".py",
      "mimetype": "text/x-python",
      "name": "python",
      "nbconvert_exporter": "python",
      "pygments_lexer": "ipython3",
      "version": "3.9.6"
    }
  },
  "nbformat": 4,
  "nbformat_minor": 0
}
